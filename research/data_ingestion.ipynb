{
 "cells": [
  {
   "cell_type": "code",
   "execution_count": 1,
   "metadata": {},
   "outputs": [
    {
     "data": {
      "text/plain": [
       "'c:\\\\Users\\\\Vishwamohan\\\\OneDrive\\\\Desktop\\\\Vishu\\\\Projects\\\\CNN_Classifier\\\\research'"
      ]
     },
     "execution_count": 1,
     "metadata": {},
     "output_type": "execute_result"
    }
   ],
   "source": [
    "%pwd"
   ]
  },
  {
   "cell_type": "code",
   "execution_count": 2,
   "metadata": {},
   "outputs": [],
   "source": [
    "# src\\CNNClassifier\\entity\\config_entity.py\n",
    "from dataclasses import dataclass\n",
    "from pathlib import Path\n",
    "\n",
    "# Creating decorator and it is creating a immutable dataclass\n",
    "@dataclass(frozen=True)\n",
    "class DataIngestionConfig:\n",
    "    root_dir : Path\n",
    "    Source_URL : str\n",
    "    local_data_file : Path\n",
    "    unzip_dir : Path"
   ]
  },
  {
   "cell_type": "code",
   "execution_count": 3,
   "metadata": {},
   "outputs": [
    {
     "data": {
      "text/plain": [
       "'c:\\\\Users\\\\Vishwamohan\\\\OneDrive\\\\Desktop\\\\Vishu\\\\Projects\\\\CNN_Classifier\\\\src'"
      ]
     },
     "execution_count": 3,
     "metadata": {},
     "output_type": "execute_result"
    }
   ],
   "source": [
    "# setting location so that we can import CNNClassifier module\n",
    "import sys\n",
    "import os\n",
    "\n",
    "# Navigate two levels up to the project root directory (adjust if necessary)\n",
    "project_root = os.path.abspath(os.path.join(os.getcwd(), '..', 'src'))\n",
    "\n",
    "# Add the project root to sys.path\n",
    "sys.path.append(project_root)\n",
    "\n",
    "# Now, the CNNClassifier module should be found\n",
    "project_root"
   ]
  },
  {
   "cell_type": "code",
   "execution_count": 10,
   "metadata": {},
   "outputs": [],
   "source": [
    "# Configuration component\n",
    "\n",
    "# src\\CNNClassifier\\config\\configuration.py\n",
    "from CNNClassifier.utils.utils import read_yaml , create_dir\n",
    "from CNNClassifier.constants import CONFIG_FILE_PATH , PARAMS_FILE_PATH\n",
    "\n",
    "class ConfigurationManager:\n",
    "    def __init__(self , config_filepath=CONFIG_FILE_PATH, params_filepath=PARAMS_FILE_PATH):\n",
    "        self.config = read_yaml(config_filepath)    # reading the files which are define in 'constants'\n",
    "        self.params = read_yaml(params_filepath)\n",
    "        create_dir([Path(self.config.artifacts_root)])  #  Creating artifact directory\n",
    "\n",
    "    def get_data_ingestion_config(self) -> DataIngestionConfig:\n",
    "        config = self.config.data_ingestion\n",
    "        create_dir([Path(config.root_dir)])\n",
    "\n",
    "        data_ingestion_config = DataIngestionConfig(\n",
    "            root_dir=config.root_dir,\n",
    "            Source_URL=config.source_URL,\n",
    "            local_data_file=config.local_data_file,\n",
    "            unzip_dir=config.unzip_dir\n",
    "        )\n",
    "        return data_ingestion_config"
   ]
  },
  {
   "cell_type": "code",
   "execution_count": 15,
   "metadata": {},
   "outputs": [],
   "source": [
    "# Data Ingestion Component\n",
    "\n",
    "#src\\CNNClassifier\\components\\stage_01_data_ingestion.py\n",
    "import os\n",
    "import urllib.request as request    # For sending request to the server\n",
    "from zipfile import ZipFile\n",
    "from CNNClassifier import logger    # When we import from CNNClassifier it will 1st run '__init__.py'\n",
    "from tqdm import tqdm\n",
    "from CNNClassifier.entity.config_entity import DataIngestionConfig\n",
    "# For data ingestion\n",
    "\n",
    "class DataIngestion:\n",
    "    def __init__(self , config:DataIngestionConfig):  # type of config -> DataIngestionConfig\n",
    "        self.config = config\n",
    "\n",
    "    def download_file(self):\n",
    "        if not os.path.exists(self.config.local_data_file): # if it doesn't exists\n",
    "            logger.info('trying to download file')\n",
    "            request.urlretrieve(\n",
    "                url = self.config.Source_URL,\n",
    "                filename = self.config.local_data_file\n",
    "            )    # request for data\n",
    "        else:\n",
    "            logger.info('file already exists')\n",
    "\n",
    "    def get_updated_list_of_files(self , list_of_files):\n",
    "        return [f for f in list_of_files if f.endswith('.jpg')]\n",
    "\n",
    "    def preprocess(self , zf , f , working_dir):\n",
    "        target_filepath = os.path.join(working_dir,f)\n",
    "        if not os.path.exists(target_filepath):\n",
    "            zf.extract(f , working_dir)\n",
    "\n",
    "    def unzip_and_clean(self):\n",
    "        with ZipFile(file=self.config.local_data_file , mode='r') as zf:\n",
    "            list_of_files = zf.namelist()\n",
    "            updated_list_of_files = self.get_updated_list_of_files(list_of_files)\n",
    "            for f in tqdm(updated_list_of_files):    # tqdm means we are going to showcase the progress\n",
    "                self.preprocess(zf , f , self.config.unzip_dir)"
   ]
  },
  {
   "cell_type": "code",
   "execution_count": 12,
   "metadata": {},
   "outputs": [
    {
     "data": {
      "text/plain": [
       "'c:\\\\Users\\\\Vishwamohan\\\\OneDrive\\\\Desktop\\\\Vishu\\\\Projects\\\\CNN_Classifier'"
      ]
     },
     "execution_count": 12,
     "metadata": {},
     "output_type": "execute_result"
    }
   ],
   "source": [
    "%pwd"
   ]
  },
  {
   "cell_type": "code",
   "execution_count": 7,
   "metadata": {},
   "outputs": [
    {
     "data": {
      "text/plain": [
       "'c:\\\\Users\\\\Vishwamohan\\\\OneDrive\\\\Desktop\\\\Vishu\\\\Projects\\\\CNN_Classifier'"
      ]
     },
     "execution_count": 7,
     "metadata": {},
     "output_type": "execute_result"
    }
   ],
   "source": [
    "#changing current directory so that we can import modules easily\n",
    "import os\n",
    "os.chdir('../')\n",
    "%pwd"
   ]
  },
  {
   "cell_type": "code",
   "execution_count": 13,
   "metadata": {},
   "outputs": [
    {
     "name": "stdout",
     "output_type": "stream",
     "text": [
      "True\n"
     ]
    }
   ],
   "source": [
    "print(os.path.exists('configs/config.yaml'))   # the directory path exists"
   ]
  },
  {
   "cell_type": "code",
   "execution_count": 16,
   "metadata": {},
   "outputs": [
    {
     "name": "stdout",
     "output_type": "stream",
     "text": [
      "[2024-10-08 22:55:28,730: INFO: 3464244792]: data ingestion started\n",
      "[2024-10-08 22:55:28,735: INFO: utils]: create directory at : artifacts\n",
      "[2024-10-08 22:55:28,740: INFO: utils]: create directory at : artifacts\\data_ingestion\n",
      "[2024-10-08 22:55:28,742: INFO: 4059024009]: file already exists\n"
     ]
    },
    {
     "name": "stderr",
     "output_type": "stream",
     "text": [
      "100%|██████████| 25000/25000 [01:39<00:00, 250.95it/s]"
     ]
    },
    {
     "name": "stdout",
     "output_type": "stream",
     "text": [
      "[2024-10-08 22:57:08,644: INFO: 3464244792]: data ingestion completed\n"
     ]
    },
    {
     "name": "stderr",
     "output_type": "stream",
     "text": [
      "\n"
     ]
    }
   ],
   "source": [
    "# Running all the steps using pipeline\n",
    "\n",
    "#src\\CNNClassifier\\components\\stage_01_data_ingestion.py\n",
    "logger.info(f'data ingestion started')\n",
    "\n",
    "config = ConfigurationManager()\n",
    "data_ingestion_config = config.get_data_ingestion_config()   # For getting configuration \n",
    "\n",
    "data_ingestion = DataIngestion(config=data_ingestion_config)\n",
    "\n",
    "data_ingestion.download_file()\n",
    "\n",
    "data_ingestion.unzip_and_clean()\n",
    "\n",
    "logger.info(f'data ingestion completed')"
   ]
  },
  {
   "cell_type": "code",
   "execution_count": null,
   "metadata": {},
   "outputs": [],
   "source": []
  }
 ],
 "metadata": {
  "kernelspec": {
   "display_name": "Python 3",
   "language": "python",
   "name": "python3"
  },
  "language_info": {
   "codemirror_mode": {
    "name": "ipython",
    "version": 3
   },
   "file_extension": ".py",
   "mimetype": "text/x-python",
   "name": "python",
   "nbconvert_exporter": "python",
   "pygments_lexer": "ipython3",
   "version": "3.9.12"
  }
 },
 "nbformat": 4,
 "nbformat_minor": 2
}

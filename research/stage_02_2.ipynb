{
 "cells": [
  {
   "cell_type": "code",
   "execution_count": 3,
   "metadata": {},
   "outputs": [
    {
     "name": "stdout",
     "output_type": "stream",
     "text": [
      "Corrupted image: c:\\Users\\Vishwamohan\\OneDrive\\Desktop\\Vishu\\Projects\\CNN_Classifier\\research\\..\\artifacts\\data_ingestion\\PetImages\\Cat\\666.jpg. Error: cannot identify image file 'C:\\\\Users\\\\Vishwamohan\\\\OneDrive\\\\Desktop\\\\Vishu\\\\Projects\\\\CNN_Classifier\\\\artifacts\\\\data_ingestion\\\\PetImages\\\\Cat\\\\666.jpg'\n",
      "Corrupted image: c:\\Users\\Vishwamohan\\OneDrive\\Desktop\\Vishu\\Projects\\CNN_Classifier\\research\\..\\artifacts\\data_ingestion\\PetImages\\Dog\\11702.jpg. Error: cannot identify image file 'C:\\\\Users\\\\Vishwamohan\\\\OneDrive\\\\Desktop\\\\Vishu\\\\Projects\\\\CNN_Classifier\\\\artifacts\\\\data_ingestion\\\\PetImages\\\\Dog\\\\11702.jpg'\n"
     ]
    },
    {
     "name": "stderr",
     "output_type": "stream",
     "text": [
      "c:\\Users\\Vishwamohan\\anaconda new\\lib\\site-packages\\PIL\\TiffImagePlugin.py:822: UserWarning: Truncated File Read\n",
      "  warnings.warn(str(msg))\n"
     ]
    },
    {
     "name": "stdout",
     "output_type": "stream",
     "text": [
      "Cleaning process completed.\n"
     ]
    }
   ],
   "source": [
    "from pathlib import Path\n",
    "import os\n",
    "from PIL import Image\n",
    "\n",
    "def clean_dataset(directory):\n",
    "    \"\"\"Clean the dataset by removing corrupted images.\"\"\"\n",
    "    for class_dir in directory.iterdir():\n",
    "        if class_dir.is_dir():  # Ensure it's a directory for each class\n",
    "            for image_file in class_dir.glob('*'):  # Iterate through each image\n",
    "                try:\n",
    "                    # Try to open the image file\n",
    "                    with Image.open(image_file) as img:\n",
    "                        img.verify()  # Verify that it's an image\n",
    "                except (IOError, SyntaxError) as e:\n",
    "                    print(f\"Corrupted image: {image_file}. Error: {e}\")\n",
    "                    image_file.unlink()  # Delete the corrupted image\n",
    "\n",
    "# Define the dataset path using relative paths\n",
    "current_directory = Path(os.getcwd())  # Get the current working directory\n",
    "dataset_path = current_directory / '../artifacts/data_ingestion/PetImages'  # Adjust relative path\n",
    "\n",
    "# Clean the dataset\n",
    "clean_dataset(dataset_path)\n",
    "\n",
    "print(\"Cleaning process completed.\")\n"
   ]
  },
  {
   "cell_type": "code",
   "execution_count": null,
   "metadata": {},
   "outputs": [],
   "source": []
  }
 ],
 "metadata": {
  "kernelspec": {
   "display_name": "Python 3",
   "language": "python",
   "name": "python3"
  },
  "language_info": {
   "codemirror_mode": {
    "name": "ipython",
    "version": 3
   },
   "file_extension": ".py",
   "mimetype": "text/x-python",
   "name": "python",
   "nbconvert_exporter": "python",
   "pygments_lexer": "ipython3",
   "version": "3.9.12"
  }
 },
 "nbformat": 4,
 "nbformat_minor": 2
}
